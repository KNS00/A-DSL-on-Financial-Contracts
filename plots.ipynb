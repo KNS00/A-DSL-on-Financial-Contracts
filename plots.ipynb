{
 "cells": [
  {
   "cell_type": "code",
   "execution_count": 15,
   "metadata": {
    "dotnet_interactive": {
     "language": "fsharp"
    },
    "polyglot_notebook": {
     "kernelName": "fsharp"
    }
   },
   "outputs": [
    {
     "data": {
      "text/html": [
       "<div><div></div><div></div><div><strong>Installed Packages</strong><ul><li><span>XPlot.Plotly, 4.0.6</span></li></ul></div></div>"
      ]
     },
     "metadata": {},
     "output_type": "display_data"
    }
   ],
   "source": [
    "#r \"./obj/Debug/net7.0/ref/BachelorThesis.dll\"\n",
    "#r \"nuget: XPlot.Plotly, 4.0.6\"\n",
    "#r \"nuget: FSharp.Stats, 0.4.11\";"
   ]
  },
  {
   "cell_type": "code",
   "execution_count": 16,
   "metadata": {
    "dotnet_interactive": {
     "language": "fsharp"
    },
    "polyglot_notebook": {
     "kernelName": "fsharp"
    }
   },
   "outputs": [],
   "source": [
    "// Bachelor Thesis modules\n",
    "open Program\n",
    "open Domain\n",
    "open Analysis\n",
    "open Evaluations\n",
    "open Simulations\n",
    "open XMLFunctions \n",
    "open Examples"
   ]
  },
  {
   "cell_type": "code",
   "execution_count": 17,
   "metadata": {
    "dotnet_interactive": {
     "language": "fsharp"
    },
    "polyglot_notebook": {
     "kernelName": "fsharp"
    }
   },
   "outputs": [],
   "source": [
    "// other modules\n",
    "open System\n",
    "open XPlot.Plotly\n",
    "open FSharp.Stats\n",
    "open FSharp.Stats.Distributions\n",
    "open FSharp.Math\n"
   ]
  },
  {
   "cell_type": "code",
   "execution_count": 18,
   "metadata": {
    "dotnet_interactive": {
     "language": "fsharp"
    },
    "polyglot_notebook": {
     "kernelName": "fsharp"
    }
   },
   "outputs": [
    {
     "data": {
      "text/html": [
       "<div class=\"dni-plaintext\"><pre>[ 494.0130670525854, 496.25498184213217, 538.0814408338628 ]</pre></div><style>\r\n",
       ".dni-code-hint {\r\n",
       "    font-style: italic;\r\n",
       "    overflow: hidden;\r\n",
       "    white-space: nowrap;\r\n",
       "}\r\n",
       ".dni-treeview {\r\n",
       "    white-space: nowrap;\r\n",
       "}\r\n",
       ".dni-treeview td {\r\n",
       "    vertical-align: top;\r\n",
       "    text-align: start;\r\n",
       "}\r\n",
       "details.dni-treeview {\r\n",
       "    padding-left: 1em;\r\n",
       "}\r\n",
       "table td {\r\n",
       "    text-align: start;\r\n",
       "}\r\n",
       "table tr { \r\n",
       "    vertical-align: top; \r\n",
       "    margin: 0em 0px;\r\n",
       "}\r\n",
       "table tr td pre \r\n",
       "{ \r\n",
       "    vertical-align: top !important; \r\n",
       "    margin: 0em 0px !important;\r\n",
       "} \r\n",
       "table th {\r\n",
       "    text-align: start;\r\n",
       "}\r\n",
       "</style>"
      ]
     },
     "metadata": {},
     "output_type": "display_data"
    }
   ],
   "source": [
    "let seed = 1\n",
    "let normal = ContinuousDistribution.normal 500. 20.\n",
    "Random.SetSampleGenerator(Random.RandThreadSafe(seed))   \n",
    "List.init 3 (fun _ -> normal.Sample())"
   ]
  },
  {
   "cell_type": "code",
   "execution_count": 22,
   "metadata": {
    "dotnet_interactive": {
     "language": "fsharp"
    },
    "polyglot_notebook": {
     "kernelName": "fsharp"
    }
   },
   "outputs": [
    {
     "data": {
      "text/html": [
       "<div class=\"dni-plaintext\"><pre>494.0130670525854</pre></div><style>\r\n",
       ".dni-code-hint {\r\n",
       "    font-style: italic;\r\n",
       "    overflow: hidden;\r\n",
       "    white-space: nowrap;\r\n",
       "}\r\n",
       ".dni-treeview {\r\n",
       "    white-space: nowrap;\r\n",
       "}\r\n",
       ".dni-treeview td {\r\n",
       "    vertical-align: top;\r\n",
       "    text-align: start;\r\n",
       "}\r\n",
       "details.dni-treeview {\r\n",
       "    padding-left: 1em;\r\n",
       "}\r\n",
       "table td {\r\n",
       "    text-align: start;\r\n",
       "}\r\n",
       "table tr { \r\n",
       "    vertical-align: top; \r\n",
       "    margin: 0em 0px;\r\n",
       "}\r\n",
       "table tr td pre \r\n",
       "{ \r\n",
       "    vertical-align: top !important; \r\n",
       "    margin: 0em 0px !important;\r\n",
       "} \r\n",
       "table th {\r\n",
       "    text-align: start;\r\n",
       "}\r\n",
       "</style>"
      ]
     },
     "metadata": {},
     "output_type": "display_data"
    }
   ],
   "source": [
    "let seed = 1\n",
    "Random.SetSampleGenerator(Random.RandThreadSafe(seed))   \n",
    "let normal = ContinuousDistribution.normal 500. 20.\n",
    "normal.Sample()"
   ]
  },
  {
   "attachments": {},
   "cell_type": "markdown",
   "metadata": {},
   "source": [
    "# Plotting a Wiener Process"
   ]
  },
  {
   "cell_type": "code",
   "execution_count": 23,
   "metadata": {
    "dotnet_interactive": {
     "language": "fsharp"
    },
    "polyglot_notebook": {
     "kernelName": "fsharp"
    }
   },
   "outputs": [
    {
     "name": "stdout",
     "output_type": "stream",
     "text": [
      "[0.0; -0.01872509079; 0.1716821134; 0.1554205335; 0.07862680834; 0.2094922782;\n",
      " 0.06071649372; 0.1666785913; 0.05798279627; 0.1036955309; 0.2030071069;\n",
      " 0.2480766823; 0.4150950345; 0.5699930967; 0.5005088645; 0.700641896;\n",
      " 0.5744210899; 0.5845672193; 0.4791784103; 0.445863653; 0.4922419239;\n",
      " 0.5057997766; 0.4691982629; 0.413014409; 0.4598273039; 0.5256218113;\n",
      " 0.5169060149; 0.4675539013; 0.4586110649; 0.3862354641; 0.2290193207;\n",
      " 0.2675850483; 0.3193884927; 0.3573861866; 0.4650795453; 0.4279694096;\n",
      " 0.3362120886; 0.2932183438; 0.3471542022; 0.183504819; 0.2378067773;\n",
      " 0.3170225709; 0.3858718159; 0.4349063625; 0.3699073456; 0.3594250476;\n",
      " 0.4433797175; 0.3807658612; 0.4369745774; 0.3799921631; 0.4468630736;\n",
      " 0.4016209796; 0.3302423883; 0.495190419; 0.3709253194; 0.4838613887;\n",
      " 0.2727982446; 0.22610712; 0.3390782652; 0.3147002439; 0.3787152298;\n",
      " 0.3081464518; 0.4527151843; 0.3934728818; 0.3686839205; 0.3300950418;\n",
      " 0.5065711481; 0.2576686846; 0.1065919946; 0.183354265; 0.07087513985;\n",
      " 0.1443853785; 0.1079774774; 0.1007941029; -0.04563122202; 0.003617827361;\n",
      " -0.07015136517; -0.1638289984; -0.1549247755; 0.03897507828; 0.02916339907;\n",
      " 0.07953386007; 0.05843758721; 0.113130234; 0.09546604995; 0.09834506374;\n",
      " -0.1365662056; -0.07852064184; -0.005760244226; -0.1299867561; -0.2692710799;\n",
      " -0.3131427929; -0.2250467559; -0.1788995096; -0.1606807152; -0.1121610213;\n",
      " -0.1473912375; -0.1228041689; -0.118142434; -0.2485368766; ...]\n"
     ]
    }
   ],
   "source": [
    "let startTime = 0\n",
    "let endTime = 10\n",
    "let dt = 0.01\n",
    "let wpValues = WienerProcess(startTime, endTime, dt)\n",
    "printfn \"%A\" wpValues\n",
    "let plotWienerProcess =\n",
    "    let xValues = [float startTime .. dt .. float endTime]\n",
    "    Scatter(\n",
    "        x = xValues,\n",
    "        y = wpValues,\n",
    "        mode = \"lines\",\n",
    "        name = \"Wiener Process\",\n",
    "        line = Line(color = \"grey\", width = 2)\n",
    "    )\n",
    "\n",
    "let layout =\n",
    "    Layout(\n",
    "        title = \"Wiener Process\",\n",
    "        annotations = [\n",
    "            Annotation(\n",
    "                text = sprintf \"Start Time: %i,\\nEnd Time: %i,\\nΔt: %.3g\" startTime endTime dt,\n",
    "                xref = \"paper\",\n",
    "                yref = \"paper\",\n",
    "                x = 0.5,\n",
    "                y = -0.15,\n",
    "                showarrow = false\n",
    "            )\n",
    "        ]\n",
    "    )\n",
    "let chart = Chart.Plot(plotWienerProcess, layout)\n",
    "chart.Show()\n"
   ]
  },
  {
   "attachments": {},
   "cell_type": "markdown",
   "metadata": {},
   "source": [
    "# Plotting a Geometric Brownian Motion"
   ]
  },
  {
   "cell_type": "code",
   "execution_count": 6,
   "metadata": {
    "dotnet_interactive": {
     "language": "fsharp"
    },
    "polyglot_notebook": {
     "kernelName": "fsharp"
    }
   },
   "outputs": [],
   "source": [
    "let currentPrice = 100.0\n",
    "let drift = 0.01\n",
    "let volatility = 0.05\n",
    "let gbmValues = GeometricBrownianMotion(currentPrice, startTime, endTime, dt, drift, volatility, wpValues)\n",
    "\n",
    "let plotGBM = \n",
    "    Scatter(\n",
    "        x = [float startTime .. dt .. float endTime],\n",
    "        y = gbmValues,\n",
    "        mode = \"lines\",\n",
    "        line = Line(color = \"grey\", width = 2),\n",
    "        name = \"Geometric Brownian Motion\"\n",
    "    )\n",
    "let layout =\n",
    "    Layout(\n",
    "        title = \"Geometric Brownian Motion\",\n",
    "        annotations = [\n",
    "            Annotation(\n",
    "                text = sprintf \"S₀: %.3g,\\nStart Time: %i,\\nEnd Time: %i,\\nΔt: %.3g,\\nμ: %.3g,\\nσ: %.3g\" currentPrice startTime endTime dt drift volatility,\n",
    "                xref = \"paper\",\n",
    "                yref = \"paper\",\n",
    "                x = 0.5,\n",
    "                y = -0.15,\n",
    "                showarrow = false\n",
    "            )\n",
    "        ]\n",
    "    )\n",
    "\n",
    "\n",
    "let chart = Chart.Plot(plotGBM, layout)\n",
    "chart.Show()\n"
   ]
  },
  {
   "attachments": {},
   "cell_type": "markdown",
   "metadata": {},
   "source": [
    "# Plotting the value of an option"
   ]
  },
  {
   "cell_type": "code",
   "execution_count": 23,
   "metadata": {
    "dotnet_interactive": {
     "language": "fsharp"
    },
    "polyglot_notebook": {
     "kernelName": "fsharp"
    }
   },
   "outputs": [
    {
     "ename": "Error",
     "evalue": "input.fsx (10,36)-(10,54) typecheck error The value or constructor 'EuropeanCallOption' is not defined.",
     "output_type": "error",
     "traceback": [
      "input.fsx (10,36)-(10,54) typecheck error The value or constructor 'EuropeanCallOption' is not defined."
     ]
    }
   ],
   "source": [
    "(* runs a function sims amount times and returns the average \n",
    "output *)\n",
    "let simulate (sims : int) (f: 'a -> float) (input: 'a) : float = \n",
    "    [for _ in 1..sims ->\n",
    "        let res = f input\n",
    "        res]\n",
    "    |> List.average\n",
    "let x =\n",
    "    let E(s,t) = 0.0\n",
    "    simulate 1_000_000 (evalc I E) EuropeanCallOption"
   ]
  },
  {
   "cell_type": "code",
   "execution_count": null,
   "metadata": {
    "dotnet_interactive": {
     "language": "csharp"
    },
    "polyglot_notebook": {
     "kernelName": "csharp"
    }
   },
   "outputs": [],
   "source": [
    "// runs a function sims amount times and returns the average output\n",
    "let simulate (sims : int) (f: 'a -> float) (input: 'a) : float = \n",
    "    [for _ in 1..sims ->\n",
    "        let res = f input\n",
    "        res]\n",
    "    |> List.average\n",
    "\n"
   ]
  }
 ],
 "metadata": {
  "kernelspec": {
   "display_name": ".NET (C#)",
   "language": "C#",
   "name": ".net-csharp"
  },
  "language_info": {
   "name": "polyglot-notebook"
  },
  "orig_nbformat": 4,
  "polyglot_notebook": {
   "kernelInfo": {
    "defaultKernelName": "csharp",
    "items": [
     {
      "aliases": [],
      "name": "csharp"
     }
    ]
   }
  }
 },
 "nbformat": 4,
 "nbformat_minor": 2
}
