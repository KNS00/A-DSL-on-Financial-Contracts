{
 "cells": [
  {
   "cell_type": "code",
   "execution_count": 1,
   "metadata": {
    "dotnet_interactive": {
     "language": "fsharp"
    },
    "polyglot_notebook": {
     "kernelName": "fsharp"
    }
   },
   "outputs": [
    {
     "data": {
      "text/html": [
       "<div><div></div><div></div><div><strong>Installed Packages</strong><ul><li><span>XPlot.Plotly, 4.0.6</span></li></ul></div></div>"
      ]
     },
     "metadata": {},
     "output_type": "display_data"
    }
   ],
   "source": [
    "#r \"./obj/Release/net7.0/BachelorThesis.dll\"\n",
    "#r \"nuget: XPlot.Plotly, 4.0.6\"\n",
    "#r \"nuget: FSharp.Stats, 0.4.11\";"
   ]
  },
  {
   "cell_type": "code",
   "execution_count": 2,
   "metadata": {
    "dotnet_interactive": {
     "language": "fsharp"
    },
    "polyglot_notebook": {
     "kernelName": "fsharp"
    }
   },
   "outputs": [],
   "source": [
    "// Bachelor Thesis modules\n",
    "open Program\n",
    "open Domain\n",
    "open Analysis\n",
    "open Evaluations\n",
    "open Simulations\n",
    "open XMLFunctions \n"
   ]
  },
  {
   "cell_type": "code",
   "execution_count": 3,
   "metadata": {
    "dotnet_interactive": {
     "language": "fsharp"
    },
    "polyglot_notebook": {
     "kernelName": "fsharp"
    }
   },
   "outputs": [],
   "source": [
    "// other modules\n",
    "open System\n",
    "open XPlot.Plotly\n",
    "open FSharp.Stats\n",
    "open FSharp.Stats.Distributions\n",
    "open FSharp.Math\n"
   ]
  },
  {
   "cell_type": "code",
   "execution_count": 4,
   "metadata": {
    "dotnet_interactive": {
     "language": "fsharp"
    },
    "polyglot_notebook": {
     "kernelName": "fsharp"
    }
   },
   "outputs": [
    {
     "data": {
      "text/html": [
       "<div class=\"dni-plaintext\"><pre>[ 494.0130670525854, 496.25498184213217, 538.0814408338628 ]</pre></div><style>\r\n",
       ".dni-code-hint {\r\n",
       "    font-style: italic;\r\n",
       "    overflow: hidden;\r\n",
       "    white-space: nowrap;\r\n",
       "}\r\n",
       ".dni-treeview {\r\n",
       "    white-space: nowrap;\r\n",
       "}\r\n",
       ".dni-treeview td {\r\n",
       "    vertical-align: top;\r\n",
       "    text-align: start;\r\n",
       "}\r\n",
       "details.dni-treeview {\r\n",
       "    padding-left: 1em;\r\n",
       "}\r\n",
       "table td {\r\n",
       "    text-align: start;\r\n",
       "}\r\n",
       "table tr { \r\n",
       "    vertical-align: top; \r\n",
       "    margin: 0em 0px;\r\n",
       "}\r\n",
       "table tr td pre \r\n",
       "{ \r\n",
       "    vertical-align: top !important; \r\n",
       "    margin: 0em 0px !important;\r\n",
       "} \r\n",
       "table th {\r\n",
       "    text-align: start;\r\n",
       "}\r\n",
       "</style>"
      ]
     },
     "metadata": {},
     "output_type": "display_data"
    }
   ],
   "source": [
    "let seed = 1\n",
    "let normal = ContinuousDistribution.normal 500. 20.\n",
    "Random.SetSampleGenerator(Random.RandThreadSafe(seed))   \n",
    "List.init 3 (fun _ -> normal.Sample())"
   ]
  },
  {
   "cell_type": "code",
   "execution_count": 11,
   "metadata": {
    "dotnet_interactive": {
     "language": "fsharp"
    },
    "polyglot_notebook": {
     "kernelName": "fsharp"
    }
   },
   "outputs": [],
   "source": [
    "let seed = 1\n",
    "Random.SetSampleGenerator(Random.RandThreadSafe(seed))   "
   ]
  },
  {
   "attachments": {},
   "cell_type": "markdown",
   "metadata": {},
   "source": [
    "# Plotting a Wiener Process"
   ]
  },
  {
   "cell_type": "code",
   "execution_count": 10,
   "metadata": {
    "dotnet_interactive": {
     "language": "fsharp"
    },
    "polyglot_notebook": {
     "kernelName": "fsharp"
    }
   },
   "outputs": [],
   "source": [
    "let startTime = 0\n",
    "let endTime = 10\n",
    "let dt = 0.01\n",
    "let wpValues = WienerProcess(startTime, endTime, dt)\n",
    "\n",
    "let plotWienerProcess =\n",
    "    let xValues = [float startTime .. dt .. float endTime]\n",
    "    Scatter(\n",
    "        x = xValues,\n",
    "        y = wpValues,\n",
    "        mode = \"lines\",\n",
    "        name = \"Wiener Process\",\n",
    "        line = Line(color = \"grey\", width = 2)\n",
    "    )\n",
    "\n",
    "let layout =\n",
    "    Layout(\n",
    "        title = \"Wiener Process\",\n",
    "        annotations = [\n",
    "            Annotation(\n",
    "                text = sprintf \"Start Time: %i,\\nEnd Time: %i,\\nΔt: %.3g\" startTime endTime dt,\n",
    "                xref = \"paper\",\n",
    "                yref = \"paper\",\n",
    "                x = 0.5,\n",
    "                y = -0.15,\n",
    "                showarrow = false\n",
    "            )\n",
    "        ]\n",
    "    )\n",
    "let chart = Chart.Plot(plotWienerProcess, layout)\n",
    "chart.Show()\n"
   ]
  },
  {
   "attachments": {},
   "cell_type": "markdown",
   "metadata": {},
   "source": [
    "# Plotting a Geometric Brownian Motion"
   ]
  },
  {
   "cell_type": "code",
   "execution_count": 34,
   "metadata": {
    "dotnet_interactive": {
     "language": "fsharp"
    },
    "polyglot_notebook": {
     "kernelName": "fsharp"
    }
   },
   "outputs": [],
   "source": [
    "let currentPrice = 100.0\n",
    "let drift = 0.01\n",
    "let volatility = 0.05\n",
    "let gbmValues = GeometricBrownianMotion(currentPrice, startTime, endTime, dt, drift, volatility, wpValues)\n",
    "\n",
    "let plotGBM = \n",
    "    Scatter(\n",
    "        x = [float startTime .. dt .. float endTime],\n",
    "        y = gbmValues,\n",
    "        mode = \"lines\",\n",
    "        line = Line(color = \"grey\", width = 2),\n",
    "        name = \"Geometric Brownian Motion\"\n",
    "    )\n",
    "let layout =\n",
    "    Layout(\n",
    "        title = \"Geometric Brownian Motion\",\n",
    "        annotations = [\n",
    "            Annotation(\n",
    "                text = sprintf \"S₀: %.3g,\\nStart Time: %i,\\nEnd Time: %i,\\nΔt: %.3g,\\nμ: %.3g,\\nσ: %.3g\" currentPrice startTime endTime dt drift volatility,\n",
    "                xref = \"paper\",\n",
    "                yref = \"paper\",\n",
    "                x = 0.5,\n",
    "                y = -0.15,\n",
    "                showarrow = false\n",
    "            )\n",
    "        ]\n",
    "    )\n",
    "\n",
    "\n",
    "let chart = Chart.Plot(plotGBM, layout)\n",
    "chart.Show()\n"
   ]
  },
  {
   "attachments": {},
   "cell_type": "markdown",
   "metadata": {},
   "source": [
    "# Plotting the value of a european call option"
   ]
  },
  {
   "cell_type": "code",
   "execution_count": null,
   "metadata": {
    "dotnet_interactive": {
     "language": "csharp"
    },
    "polyglot_notebook": {
     "kernelName": "csharp"
    }
   },
   "outputs": [],
   "source": []
  }
 ],
 "metadata": {
  "kernelspec": {
   "display_name": ".NET (C#)",
   "language": "C#",
   "name": ".net-csharp"
  },
  "language_info": {
   "name": "polyglot-notebook"
  },
  "orig_nbformat": 4,
  "polyglot_notebook": {
   "kernelInfo": {
    "defaultKernelName": "csharp",
    "items": [
     {
      "aliases": [],
      "name": "csharp"
     }
    ]
   }
  }
 },
 "nbformat": 4,
 "nbformat_minor": 2
}
